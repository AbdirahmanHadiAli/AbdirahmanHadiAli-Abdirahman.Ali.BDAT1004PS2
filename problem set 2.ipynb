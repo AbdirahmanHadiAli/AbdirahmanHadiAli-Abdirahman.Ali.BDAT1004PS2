{
 "cells": [
  {
   "cell_type": "markdown",
   "metadata": {
    "slideshow": {
     "slide_type": "slide"
    }
   },
   "source": [
    "<center><img  src=\"Georgian College Logo.svg\"></center\n",
    "\n",
    "<h1><font color='#004b87'><center>BDAT1004-24F-10909</center></font></h1>\n",
    "<h3><center>Problem set 2</center></h3>\n",
    "<h3><center>Abdirahman Ahmed Hadi Ali</center></h3>\n",
    "<h3><center>ID 200579531</center></h3>\n"
   ]
  },
  {
   "cell_type": "markdown",
   "metadata": {
    "slideshow": {
     "slide_type": "slide"
    }
   },
   "source": [
    "<h3><font color='#004b87'>Question 1</font></h3>\n",
    "<p></p>\n",
    "<li>Consider the following Python module:\n",
    "a = 0\n",
    "def b():\n",
    " global a\n",
    " a = c(a)\n",
    "def c(a):\n",
    " return a + 2\n",
    "After importing the module into the interpreter, you execute:\n",
    ">>> b()\n",
    ">>> b()\n",
    ">>> b()\n",
    ">>> a\n",
    "?\n",
    "What value is displayed when the last expression (a) is evaluated? Explain your \n",
    "answer by indicating what happens in every executed statement</li>"
   ]
  },
  {
   "cell_type": "code",
   "execution_count": 1,
   "metadata": {
    "slideshow": {
     "slide_type": "fragment"
    }
   },
   "outputs": [],
   "source": [
    "a = 0\n",
    "\n",
    "def b():\n",
    "    global a\n",
    "    a = c(a)\n",
    "\n",
    "def c(a):\n",
    "    return a + 2\n"
   ]
  },
  {
   "cell_type": "code",
   "execution_count": 2,
   "metadata": {
    "slideshow": {
     "slide_type": "slide"
    }
   },
   "outputs": [],
   "source": [
    ">>> b()  # calling funtion first time\n",
    "# which is 0+2"
   ]
  },
  {
   "cell_type": "code",
   "execution_count": 3,
   "metadata": {},
   "outputs": [],
   "source": [
    ">>> b()  # Call function second time\n",
    "# which is 2+2"
   ]
  },
  {
   "cell_type": "code",
   "execution_count": 4,
   "metadata": {},
   "outputs": [],
   "source": [
    ">>> b()  # Call function third time\n",
    "# which is 4+2"
   ]
  },
  {
   "cell_type": "code",
   "execution_count": 5,
   "metadata": {},
   "outputs": [
    {
     "data": {
      "text/plain": [
       "6"
      ]
     },
     "execution_count": 5,
     "metadata": {},
     "output_type": "execute_result"
    }
   ],
   "source": [
    ">>> a  # value of a output is the last sum = 6"
   ]
  },
  {
   "cell_type": "markdown",
   "metadata": {
    "slideshow": {
     "slide_type": "slide"
    }
   },
   "source": [
    "<h3><font color='#004b87'>Question 2</font></h3>\n",
    "<p></p>\n",
    "\n",
    "<li>Function fileLength(), given to you, takes the name of a file as input and returns \n",
    "the length of the file:\n",
    ">>> fileLength('midterm.py')\n",
    "284\n",
    ">>> fileLength('idterm.py')\n",
    "Traceback (most recent call last):\n",
    "File \"<pyshell#34>\", line 1, in <module>\n",
    " fileLength('idterm.py')\n",
    "File \"/Users/me/midterm.py\", line 3, in fileLength\n",
    " infile = open(filename)\n",
    "FileNotFoundError: [Errno 2] No such file or directory: \n",
    "'idterm.py'\n",
    "As shown above, if the file cannot be found by the interpreter or if it cannot be read \n",
    "as a text file, an exception will be raised. Modify function fileLength() so that a \n",
    "friendly message is printed instead:\n",
    ">>> fileLength('midterm.py')\n",
    "358\n",
    ">>> fileLength('idterm.py')\n",
    "File idterm.py not found.</li>\n"
   ]
  },
  {
   "cell_type": "code",
   "execution_count": 6,
   "metadata": {},
   "outputs": [],
   "source": [
    "# the function\n",
    "\n",
    "def fileLength(filename):  \n",
    "    try:\n",
    "        infile = open(filename)  #try to open the file\n",
    "        content = infile.read()  # read the content of the file\n",
    "        infile.close()           # close the file\n",
    "        return len(content)      # return the length of the content\n",
    "    except FileNotFoundError:\n",
    "        print(f\"File {filename} sorry is not found.\")   #print message if the file is not found\n",
    "\n",
    "\n"
   ]
  },
  {
   "cell_type": "code",
   "execution_count": 7,
   "metadata": {},
   "outputs": [
    {
     "name": "stdout",
     "output_type": "stream",
     "text": [
      "File C:\\Users\\Dell_User\\Desktop\\Data Prog 01\\problem set 2\\Filelength.txt sorry is not found.\n",
      "None\n"
     ]
    }
   ],
   "source": [
    "#Testing\n",
    "print(fileLength(r'C:\\Users\\Dell_User\\Desktop\\Data Prog 01\\problem set 2\\Filelength.txt'))"
   ]
  },
  {
   "cell_type": "code",
   "execution_count": 8,
   "metadata": {},
   "outputs": [
    {
     "name": "stdout",
     "output_type": "stream",
     "text": [
      "File hello.txt sorry is not found.\n",
      "None\n"
     ]
    }
   ],
   "source": [
    "#Testing\n",
    "print(fileLength(r'hello.txt'))"
   ]
  },
  {
   "cell_type": "markdown",
   "metadata": {
    "slideshow": {
     "slide_type": "slide"
    }
   },
   "source": [
    "<h3><font color='#004b87'>Question 3</font></h3>\n",
    "<p></p>\n",
    "\n",
    "<li>Write a class named Marsupial that can be used as shown below:\n",
    ">>> m = Marsupial()\n",
    ">>> m.put_in_pouch('doll')\n",
    ">>> m.put_in_pouch('firetruck')\n",
    ">>> m.put_in_pouch('kitten')\n",
    ">>> m.pouch_contents()\n",
    "['doll', 'firetruck', 'kitten']\n",
    "    Now write a class named Kangaroo as a subclass of Marsupial that inherits all the \n",
    "attributes of Marsupial and also:\n",
    "a. extends the Marsupial __init__ constructor to take, as input, the \n",
    "coordinates x and y of the Kangaroo object,\n",
    "b. supports method jump that takes number values dx and dy as input and \n",
    "moves the kangaroo by dx units along the x-axis and by dy units along the y\u0002axis, and\n",
    "c. overloads the __str__ operator so it behaves as shown below.\n",
    ">>> k = Kangaroo(0,0)\n",
    ">>> print(k)\n",
    "I am a Kangaroo located at coordinates (0,0)\n",
    ">>> k.put_in_pouch('doll')\n",
    ">>> k.put_in_pouch('firetruck')\n",
    ">>> k.put_in_pouch('kitten')\n",
    ">>> k.pouch_contents()\n",
    "['doll', 'firetruck', 'kitten']\n",
    ">>> k.jump(1,0)\n",
    ">>> k.jump(1,0)\n",
    ">>> k.jump(1,0)\n",
    ">>> print(k)\n",
    "I am a Kangaroo located at coordinates (3,0)\n",
    "</li>\n"
   ]
  },
  {
   "cell_type": "code",
   "execution_count": 9,
   "metadata": {},
   "outputs": [],
   "source": [
    "#the marsupial class\n",
    "\n",
    "class Marsupial:\n",
    "    def __init__(self):\n",
    "                                  #initialing an empty list to store items in the pouch\n",
    "        self.pouch = []\n",
    "\n",
    "    def put_in_pouch(self, item):\n",
    "                                  #method to put an item in the pouch\n",
    "        self.pouch.append(item)\n",
    "\n",
    "    def pouch_contents(self):\n",
    "                                  # return method\n",
    "        return self.pouch"
   ]
  },
  {
   "cell_type": "code",
   "execution_count": 10,
   "metadata": {},
   "outputs": [],
   "source": [
    "#the kangaroo class as a subclass of marsupial\n",
    "\n",
    "class Kangaroo(Marsupial):\n",
    "    def __init__(self, x, y):\n",
    "                                   # initialize a kangaroo object with coordinates (x,y)\n",
    "        super().__init__()         # call the constructor of marsupial\n",
    "        self.x = x                 # x coordinate\n",
    "        self.y = y                 # y coordinate\n",
    "\n",
    "    def jump(self, dx, dy):\n",
    "                                  # method to move the kangaroo by distannce x units along the x axis and by distance y units along the y axis\n",
    "        self.x += dx               #update x by dx\n",
    "        self.y += dy               #update y by dy\n",
    "\n",
    "    def __str__(self):\n",
    "                                  #method to provide a string of object kangaroo\n",
    "        return f\"I am a kangaroo located at coordinates ({self.x},{self.y})\""
   ]
  },
  {
   "cell_type": "code",
   "execution_count": 11,
   "metadata": {},
   "outputs": [
    {
     "name": "stdout",
     "output_type": "stream",
     "text": [
      "I am a kangaroo located at coordinates (0,0)\n"
     ]
    }
   ],
   "source": [
    "#testing with coodinates(0,0)\n",
    "\n",
    "k = Kangaroo(0, 0)\n",
    "print(k)                        # printing k"
   ]
  },
  {
   "cell_type": "code",
   "execution_count": 12,
   "metadata": {},
   "outputs": [
    {
     "name": "stdout",
     "output_type": "stream",
     "text": [
      "I am a kangaroo located at coordinates (3,0)\n"
     ]
    }
   ],
   "source": [
    "#moving the kangaroo by jumping which means change in coodinates\n",
    "\n",
    "k.jump(1, 0)       #x\n",
    "k.jump(1, 0)       #x+x\n",
    "k.jump(1, 0)       #2x+x\n",
    "\n",
    "print(k)            #printing k"
   ]
  },
  {
   "cell_type": "code",
   "execution_count": 13,
   "metadata": {},
   "outputs": [
    {
     "name": "stdout",
     "output_type": "stream",
     "text": [
      "['doll', 'firetruck', 'kitten']\n"
     ]
    }
   ],
   "source": [
    "#Testing by creating a marsupial object\n",
    "\n",
    "m = Marsupial()\n",
    "m.put_in_pouch('doll')\n",
    "m.put_in_pouch('firetruck')\n",
    "m.put_in_pouch('kitten')\n",
    "\n",
    "print(m.pouch_contents())           #printing the pouch content"
   ]
  },
  {
   "cell_type": "code",
   "execution_count": 14,
   "metadata": {},
   "outputs": [
    {
     "name": "stdout",
     "output_type": "stream",
     "text": [
      "['doll', 'firetruck', 'kitten', 'iphone']\n"
     ]
    }
   ],
   "source": [
    "# now putting items in the kangaroo pouch\n",
    "\n",
    "k.put_in_pouch('doll')\n",
    "k.put_in_pouch('firetruck')\n",
    "k.put_in_pouch('kitten')\n",
    "k.put_in_pouch('iphone')\n",
    "\n",
    "print(k.pouch_contents())     #printing the pouch content"
   ]
  },
  {
   "cell_type": "markdown",
   "metadata": {
    "slideshow": {
     "slide_type": "slide"
    }
   },
   "source": [
    "<h3><font color='#004b87'>Question 4</font></h3>\n",
    "<p></p>\n",
    "\n",
    "<li>Write function collatz() that takes a positive integer x as input and prints the \n",
    "Collatz sequence starting at x. A Collatz sequence is obtained by repeatedly applying \n",
    "this rule to the previous number x in the sequence:\n",
    "x = {\n",
    "𝑥/2 𝑖𝑓 𝑥 𝑖𝑠 𝑒𝑣𝑒𝑛\n",
    "3𝑥 + 1 𝑖𝑓 𝑥 𝑖𝑠 𝑜𝑑𝑑\n",
    "Your function should stop when the sequence gets to number 1. Your \n",
    "implementation must be recursive, without any loops >>> collatz(1)\n",
    "1\n",
    ">>> collatz(10)\n",
    "10\n",
    "5\n",
    "16\n",
    "8\n",
    "4\n",
    "2\n",
    "1</li>\n",
    "<p></p>\n"
   ]
  },
  {
   "cell_type": "code",
   "execution_count": 15,
   "metadata": {},
   "outputs": [],
   "source": [
    "\n",
    "\n",
    "def collatz(x):\n",
    "    print(x)               # print the number \n",
    "    if x == 1:\n",
    "        return             # if x reaches 1, stop\n",
    "    elif x % 2 == 0:\n",
    "        collatz(x // 2)      # if x is even, then x/2\n",
    "    else:\n",
    "        collatz(3 * x + 1)  # if x is odd, then 3x + 1\n"
   ]
  },
  {
   "cell_type": "code",
   "execution_count": 16,
   "metadata": {},
   "outputs": [
    {
     "name": "stdout",
     "output_type": "stream",
     "text": [
      "10\n",
      "5\n",
      "16\n",
      "8\n",
      "4\n",
      "2\n",
      "1\n"
     ]
    }
   ],
   "source": [
    "#testing\n",
    "\n",
    "collatz(10)  "
   ]
  },
  {
   "cell_type": "markdown",
   "metadata": {
    "slideshow": {
     "slide_type": "slide"
    }
   },
   "source": [
    "<h3><font color='#004b87'>Question 5</font></h3>\n",
    "<p></p>\n",
    "\n",
    "Write a recursive method binary() that takes a non-negative \n",
    "integer n and prints the binary representation of integer n.\n",
    "binary(0)\n",
    "0\n",
    " binary(1)\n",
    "1\n",
    " binary(3)\n",
    "11\n",
    " binary(9)\n",
    "1001\n",
    "\n",
    "  "
   ]
  },
  {
   "cell_type": "code",
   "execution_count": 17,
   "metadata": {
    "slideshow": {
     "slide_type": "fragment"
    }
   },
   "outputs": [],
   "source": [
    "\n",
    "def binary(n):\n",
    "    if n > 1:               # ensureing it all positive integers\n",
    "        binary(n // 2)      # divide n by 2 and call binary() with the result .. the calculation into binary digit, the remainder of n when divided by 2\n",
    "        \n",
    "    print(n % 2, end=\" \")    # print \n",
    "\n"
   ]
  },
  {
   "cell_type": "code",
   "execution_count": 18,
   "metadata": {},
   "outputs": [
    {
     "name": "stdout",
     "output_type": "stream",
     "text": [
      "1 1 \n",
      "0 \n",
      "1 1 1 \n",
      "0 "
     ]
    }
   ],
   "source": [
    "#Testing\n",
    "\n",
    "binary(3)                   \n",
    "print()                  \n",
    "binary(-6)      # negative integer            \n",
    "print()               \n",
    "binary(7)               \n",
    "print()               \n",
    "binary(-10)   # negatve integer              \n"
   ]
  },
  {
   "cell_type": "markdown",
   "metadata": {
    "slideshow": {
     "slide_type": "slide"
    }
   },
   "source": [
    "<h3><font color='#004b87'>Question 6</font></h3>\n",
    "<p></p>\n",
    "   <ol>\n",
    "    <li>Implement a class named HeadingParser that can be used to parse an HTML \n",
    "document, and retrieve and print all the headings in the document. You should \n",
    "implement your class as a subclass of HTMLParser, defined in Standard Library \n",
    "module html.parser. When fed a string containing HTML code, your class should \n",
    "print the headings, one per line and in the order in which they appear in the \n",
    "document. Each heading should be indented as follows: an h1 heading should have indentation 0, and h2 heading should have indentation 1, etc. Test your \n",
    "implementation using w3c.html.\n",
    ">>> infile = open('w3c.html')\n",
    ">>> content = infile.read()\n",
    ">>> infile.close()\n",
    ">>> hp = HeadingParser()\n",
    ">>> hp.feed(content)\n",
    "W3C Mission\n",
    "Principles\n",
    "</li>\n",
    "  \n",
    "   </ol>"
   ]
  },
  {
   "cell_type": "code",
   "execution_count": 19,
   "metadata": {
    "slideshow": {
     "slide_type": "fragment"
    }
   },
   "outputs": [],
   "source": [
    "# import the HTMLParser class\n",
    "\n",
    "from html.parser import HTMLParser  \n",
    "\n",
    "# define the HeadingParser class\n",
    "\n",
    "class HeadingParser(HTMLParser):  \n",
    "    def __init__(self):\n",
    "        super().__init__()            # constructor\n",
    "        self.headings = []            # list for storing headings\n",
    "        self.indentation = 0          # the indentation level\n",
    "\n",
    "    def handle_starttag(self, tag, attrs):\n",
    "        if tag.startswith('h') and tag[1:].isdigit():   # checking 1-if the tag is a heading tag 2-checking if the character after h is digit\n",
    "            self.indentation = int(tag[1])              # calculate indentation\n",
    "            self.headings.append('')                   # add a placeholder for the heading in the headings list\n",
    " \n",
    "    def handle_data(self, data):\n",
    "        if self.headings:                              # checking if there are headings being processed at the moment\n",
    "            self.headings[-1] += data.strip()          # add to the heading list hte data \n",
    "\n",
    "    def handle_endtag(self, tag):\n",
    "        if tag.startswith('h') and self.headings:       # checking if it is the end of a heading tag \n",
    "            print('' * self.indentation + self.headings.pop())  #print\n",
    "\n"
   ]
  },
  {
   "cell_type": "code",
   "execution_count": 21,
   "metadata": {
    "scrolled": true
   },
   "outputs": [
    {
     "name": "stdout",
     "output_type": "stream",
     "text": [
      "W3C Mission\n",
      "Principles\n"
     ]
    }
   ],
   "source": [
    "#Testing\n",
    "\n",
    "if __name__ == \"__main__\":\n",
    "    with open(r'C:\\Users\\Dell_User\\OneDrive - Georgian College\\Desktop\\w3c.html', 'r') as infile:  # open file\n",
    "        content = infile.read()                                                                  # reading the content of the file\n",
    "\n",
    "    hp = HeadingParser()         \n",
    "    hp.feed(content)          \n"
   ]
  },
  {
   "cell_type": "markdown",
   "metadata": {
    "slideshow": {
     "slide_type": "slide"
    }
   },
   "source": [
    "<h3><font color='#004b87'>Question 7</font></h3>\n",
    "<p></p>\n",
    "\n",
    "<li>Implement recursive function webdir() that takes as input: a URL (as a string) and \n",
    "non-negative integers depth and indent. Your function should visit every web \n",
    "page reachable from the starting URL web page in depth clicks or less, and print \n",
    "each web page's URL. As shown below, indentation, specified by indent, should \n",
    "be used to indicate the depth of a URL.\n",
    ">>> \n",
    "webdir('http://reed.cs.depaul.edu/lperkovic/csc242/test1.html'\n",
    ", 2, 0)\n",
    "http://reed.cs.depaul.edu/lperkovic/csc242/test1.html\n",
    " http://reed.cs.depaul.edu/lperkovic/csc242/test2.html\n",
    " http://reed.cs.depaul.edu/lperkovic/csc242/test4.html\n",
    " http://reed.cs.depaul.edu/lperkovic/csc242/test3.html\n",
    " http://reed.cs.depaul.edu/lperkovic/csc242/test4.html</li> \n",
    "<p></p>\n",
    "\n",
    "\n"
   ]
  },
  {
   "cell_type": "code",
   "execution_count": 22,
   "metadata": {
    "slideshow": {
     "slide_type": "fragment"
    }
   },
   "outputs": [
    {
     "name": "stdout",
     "output_type": "stream",
     "text": [
      "http://reed.cs.depaul.edu/lperkovic/csc242/test1.html\n"
     ]
    }
   ],
   "source": [
    "import requests\n",
    "from bs4 import BeautifulSoup\n",
    "from urllib.parse import urljoin\n",
    "\n",
    "def webdir(url, depth, indent):\n",
    "    if depth == 0:\n",
    "        return\n",
    "    print(\" \" * indent + url)\n",
    "    try:\n",
    "        response = requests.get(url)\n",
    "        soup = BeautifulSoup(response.text, \"html.parser\")\n",
    "        links = soup.find_all(\"a\", href=True)\n",
    "\n",
    "        for link in links:\n",
    "            href = link['href']\n",
    "            next_url = urljoin(url, href)\n",
    "            webdir(next_url, depth - 1, indent + 4)\n",
    "\n",
    "    except requests.RequestException as e:\n",
    "        print(f\"{' ' * indent}[Error] Could not retrieve {url}: {e}\")\n",
    "\n",
    "# Testing\n",
    "webdir('http://reed.cs.depaul.edu/lperkovic/csc242/test1.html', 2, 0)\n"
   ]
  },
  {
   "cell_type": "markdown",
   "metadata": {
    "slideshow": {
     "slide_type": "slide"
    }
   },
   "source": [
    "<h3><font color='#004b87'>Question 8</font></h3>\n",
    "<p></p>\n",
    "\n",
    "<li>Write SQL queries on the below database table that return: </li>\n",
    "<li>a) All the temperature data.</li>\n",
    "<li>b) All the cities, but without repetition.</li> \n",
    "<li>c) All the records for India.</li> \n",
    "<li>d) All the Fall records</li> \n",
    "<li>e) The city, country, and season for which the average rainfall is between 200 \n",
    "and 400 millimeters.</li>\n",
    "<li>f) The city and country for which the average Fall temperature is above 20 \n",
    "degrees, in increasing temperature order.</li> \n",
    "<li>g) The total annual rainfall for Cairo.</li> \n",
    "<li>h) The total rainfall for each season.</li> \n",
    "<p></p>\n"
   ]
  },
  {
   "cell_type": "code",
   "execution_count": 23,
   "metadata": {
    "slideshow": {
     "slide_type": "fragment"
    }
   },
   "outputs": [],
   "source": [
    "import sqlite3\n",
    "\n",
    "#  create database table\n",
    "conn = sqlite3.connect(':memory:')  # Use ':memory:' to create an in-memory database\n",
    "\n",
    "\n",
    "# creating a cursor object\n",
    "cursor = conn.cursor()\n",
    "\n",
    "# define the SQL command to create the weather table\n",
    "create_table_query = '''\n",
    "CREATE TABLE Weather (\n",
    "    City TEXT,\n",
    "    Country TEXT,\n",
    "    Season TEXT,\n",
    "    Temperature FLOAT,\n",
    "    Rainfall FLOAT\n",
    ")\n",
    "'''\n",
    "\n",
    "# execute the SQL command\n",
    "cursor.execute(create_table_query)\n",
    "\n",
    "# input data into table\n",
    "weather_data = [\n",
    "    ('Mumbai', 'India', 'Winter', 24.8, 5.9),\n",
    "    ('Mumbai', 'India', 'Spring', 28.4, 16.2),\n",
    "    ('Mumbai', 'India', 'Summer', 27.9, 1549.4),\n",
    "    ('Mumbai', 'India', 'Fall', 27.6, 346.0),\n",
    "    ('London', 'United Kingdom', 'Winter', 4.2, 207.7),\n",
    "    ('London', 'United Kingdom', 'Spring', 8.3, 169.6),\n",
    "    ('London', 'United Kingdom', 'Summer', 15.7, 157.0),\n",
    "    ('London', 'United Kingdom', 'Fall', 10.4, 218.5),\n",
    "    ('Cairo', 'Egypt', 'Winter', 13.6, 16.5),\n",
    "    ('Cairo', 'Egypt', 'Spring', 20.7, 6.5),\n",
    "    ('Cairo', 'Egypt', 'Summer', 27.7, 0.1),\n",
    "    ('Cairo', 'Egypt', 'Fall', 22.2, 4.5)\n",
    "]\n",
    "\n",
    "# command to insert data\n",
    "insert_query = 'INSERT INTO Weather (City, Country, Season, Temperature, Rainfall) VALUES (?, ?, ?, ?, ?)'\n",
    "\n",
    "# insert data into table\n",
    "cursor.executemany(insert_query, weather_data)\n",
    "\n",
    "# Commit the changes to the database\n",
    "conn.commit()\n"
   ]
  },
  {
   "cell_type": "code",
   "execution_count": 24,
   "metadata": {
    "slideshow": {
     "slide_type": "slide"
    }
   },
   "outputs": [],
   "source": [
    "# function to execute SQL queries\n",
    "\n",
    "def execute_query(query):\n",
    "    cursor.execute(query)\n",
    "    return cursor.fetchall()"
   ]
  },
  {
   "cell_type": "code",
   "execution_count": null,
   "metadata": {
    "slideshow": {
     "slide_type": "slide"
    }
   },
   "outputs": [],
   "source": [
    "# a) All the temperature data\n",
    "\n",
    "query_a = 'SELECT Temperature FROM Weather'\n",
    "result_a = execute_query(query_a)\n",
    "print(\"a) All the temperature data from the table:\")\n",
    "print(result_a)\n",
    "\n",
    "\n",
    "\n",
    "# b) All the cities\n",
    "\n",
    "query_b = 'SELECT DISTINCT City FROM Weather'\n",
    "result_b = execute_query(query_b)\n",
    "print(\"\\nb) All the cities:\")       # no repeatition of cities\n",
    "print(result_b)"
   ]
  },
  {
   "cell_type": "code",
   "execution_count": 25,
   "metadata": {
    "slideshow": {
     "slide_type": "fragment"
    }
   },
   "outputs": [
    {
     "name": "stdout",
     "output_type": "stream",
     "text": [
      "\n",
      "c) All the records for India:\n",
      "[('Mumbai', 'India', 'Winter', 24.8, 5.9), ('Mumbai', 'India', 'Spring', 28.4, 16.2), ('Mumbai', 'India', 'Summer', 27.9, 1549.4), ('Mumbai', 'India', 'Fall', 27.6, 346.0)]\n",
      "\n",
      "d) All the fall data:\n",
      "[('Mumbai', 'India', 'Fall', 27.6, 346.0), ('London', 'United Kingdom', 'Fall', 10.4, 218.5), ('Cairo', 'Egypt', 'Fall', 22.2, 4.5)]\n"
     ]
    }
   ],
   "source": [
    "# c) All the records for India\n",
    "\n",
    "query_c = 'SELECT * FROM Weather WHERE Country = \"India\"'\n",
    "result_c = execute_query(query_c)\n",
    "print(\"\\nc) All the records for India:\")\n",
    "print(result_c)\n",
    "\n",
    "\n",
    "\n",
    "# d) All the fall data\n",
    "\n",
    "query_d = 'SELECT * FROM Weather WHERE Season = \"Fall\"'\n",
    "result_d = execute_query(query_d)\n",
    "print(\"\\nd) All the fall data:\")\n",
    "print(result_d)"
   ]
  },
  {
   "cell_type": "code",
   "execution_count": 26,
   "metadata": {
    "slideshow": {
     "slide_type": "skip"
    }
   },
   "outputs": [
    {
     "name": "stdout",
     "output_type": "stream",
     "text": [
      "\n",
      "e) The city, country, and season with the average rainfall of between 200mm and 400mm:\n",
      "[('London', 'United Kingdom', 'Fall'), ('London', 'United Kingdom', 'Winter'), ('Mumbai', 'India', 'Fall')]\n"
     ]
    }
   ],
   "source": [
    "# e) The city, country, and season with the average rainfall of between 200mm and 400mm\n",
    "\n",
    "query_e = '''\n",
    "SELECT City, Country, Season\n",
    "FROM Weather\n",
    "GROUP BY City, Country, Season\n",
    "HAVING AVG(Rainfall) BETWEEN 200 AND 400\n",
    "'''\n",
    "\n",
    "result_e = execute_query(query_e)\n",
    "print(\"\\ne) The city, country, and season with the average rainfall of between 200mm and 400mm:\")\n",
    "print(result_e)\n"
   ]
  },
  {
   "cell_type": "code",
   "execution_count": 27,
   "metadata": {
    "slideshow": {
     "slide_type": "fragment"
    }
   },
   "outputs": [
    {
     "name": "stdout",
     "output_type": "stream",
     "text": [
      "\n",
      "f) The city and country with average fall temperature of above 20, in increasing temperature order:\n",
      "[('Cairo', 'Egypt'), ('Mumbai', 'India')]\n"
     ]
    }
   ],
   "source": [
    "# f) The city and country with average fall temperature of above 20, in increasing order\n",
    "\n",
    "query_f = '''\n",
    "SELECT City, Country\n",
    "FROM Weather\n",
    "WHERE Season = \"Fall\"\n",
    "GROUP BY City, Country\n",
    "HAVING AVG(Temperature) > 20\n",
    "ORDER BY AVG(Temperature) ASC  \n",
    "'''\n",
    "\n",
    "result_f = execute_query(query_f)\n",
    "print(\"\\nf) The city and country with average fall temperature of above 20, in increasing temperature order:\")\n",
    "print(result_f)"
   ]
  },
  {
   "cell_type": "code",
   "execution_count": 28,
   "metadata": {},
   "outputs": [
    {
     "name": "stdout",
     "output_type": "stream",
     "text": [
      "\n",
      "g) The total annual rainfall for cairo:\n",
      "[(27.6,)]\n",
      "\n",
      "h) The total rainfall for each season:\n",
      "[('Fall', 569.0), ('Spring', 192.29999999999998), ('Summer', 1706.5), ('Winter', 230.1)]\n"
     ]
    }
   ],
   "source": [
    "# g) total annual rainfall for cairo\n",
    "\n",
    "query_g = 'SELECT SUM(Rainfall) FROM Weather WHERE City = \"Cairo\"'\n",
    "result_g = execute_query(query_g)\n",
    "print(\"\\ng) The total annual rainfall for cairo:\")\n",
    "print(result_g)\n",
    "\n",
    "\n",
    "\n",
    "# h)total rainfall for each season\n",
    "\n",
    "query_h = 'SELECT Season, SUM(Rainfall) FROM Weather GROUP BY Season'\n",
    "result_h = execute_query(query_h)\n",
    "print(\"\\nh) The total rainfall for each season:\")\n",
    "print(result_h)"
   ]
  },
  {
   "cell_type": "markdown",
   "metadata": {
    "slideshow": {
     "slide_type": "slide"
    }
   },
   "source": [
    "<h3><font color='#004b87'>Question 9</font></h3>\n",
    "<p></p>\n",
    "Suppose list words is defined as follows:\n",
    ">>> words = ['The', 'quick', 'brown', 'fox', 'jumps', 'over', \n",
    "'the', 'lazy', 'dog']\n",
    "Write list comprehension expressions that use list words and generate the following \n",
    "lists:\n",
    "a) ['THE', 'QUICK', 'BROWN', 'FOX', 'JUMPS', 'OVER', 'THE', \n",
    "'LAZY', 'DOG']\n",
    "b) ['the', 'quick', 'brown', 'fox', 'jumps', 'over', 'the', \n",
    "'lazy', 'dog']\n",
    "c) [3, 5, 5, 3, 5, 4, 3, 4, 3] (the list of lengths of words in list \n",
    "words).\n",
    "d) [['THE', 'the', 3], ['QUICK', 'quick', 5], ['BROWN', \n",
    "'brown', 5], ['FOX', 'fox', 3], ['JUMPS', 'jumps', 5], \n",
    "['OVER', 'over', 4], ['THE', 'the', 3], ['LAZY', 'lazy', \n",
    "4], ['DOG', 'dog', 3]] (the list containing a list for every word of list \n",
    "words, where each list contains the word in uppercase and lowercase and the \n",
    "length of the word.)\n",
    "e) ['The', 'quick', 'brown', 'fox', 'jumps', 'over', 'the', \n",
    "'lazy', 'dog'] (the list of words in list words containing 4 or more \n",
    "characters.\n",
    "<p></p>\n",
    "   \n",
    "\n",
    "  "
   ]
  },
  {
   "cell_type": "code",
   "execution_count": 29,
   "metadata": {
    "scrolled": true,
    "slideshow": {
     "slide_type": "fragment"
    }
   },
   "outputs": [
    {
     "name": "stdout",
     "output_type": "stream",
     "text": [
      "a) Uppercase words: ['THE', 'QUICK', 'BROWN', 'FOX', 'JUMPS', 'OVER', 'THE', 'LAZY', 'DOG']\n",
      "b) Lowercase words: ['the', 'quick', 'brown', 'fox', 'jumps', 'over', 'the', 'lazy', 'dog']\n",
      "c) Word lengths: [3, 5, 5, 3, 5, 4, 3, 4, 3]\n",
      "d) uppercase, lowercase and no. of characters: [['THE', 'the', 3], ['QUICK', 'quick', 5], ['BROWN', 'brown', 5], ['FOX', 'fox', 3], ['JUMPS', 'jumps', 5], ['OVER', 'over', 4], ['THE', 'the', 3], ['LAZY', 'lazy', 4], ['DOG', 'dog', 3]]\n",
      "\n",
      "e) Words with 4 or more characters in the list: ['quick', 'brown', 'jumps', 'over', 'lazy']\n"
     ]
    }
   ],
   "source": [
    "#list of words\n",
    "\n",
    "words = ['The', 'quick', 'brown', 'fox', 'jumps', 'over', 'the', 'lazy', 'dog']\n",
    "\n",
    "# a) Convert all words to uppercase\n",
    "words_upper = [word.upper() for word in words]\n",
    "\n",
    "print(\"a) Uppercase words:\", words_upper)            # Print\n",
    "\n",
    "# b) Convert all words to lowercase\n",
    "words_lower = [word.lower() for word in words]\n",
    "\n",
    "print(\"b) Lowercase words:\", words_lower)            # Print\n",
    "\n",
    "\n",
    "# c) Calculate the lengths of words\n",
    "word_lengths = [len(word) for word in words]\n",
    "\n",
    "print(\"c) Word lengths:\", word_lengths)              #print\n",
    "\n",
    "\n",
    "\n",
    "# d) list for question a b and c\n",
    "word_info = [[word.upper(), word.lower(), len(word)] for word in words]\n",
    "\n",
    "print(\"d) uppercase, lowercase and no. of characters:\", word_info)              #print\n",
    "print()\n",
    "\n",
    "\n",
    "# e) words with 4 or more characters\n",
    "words_four_or_more = [word for word in words if len(word) >= 4]\n",
    "\n",
    "print(\"e) Words with 4 or more characters in the list:\", words_four_or_more)  #print\n"
   ]
  },
  {
   "cell_type": "code",
   "execution_count": null,
   "metadata": {},
   "outputs": [],
   "source": []
  },
  {
   "cell_type": "code",
   "execution_count": null,
   "metadata": {},
   "outputs": [],
   "source": []
  }
 ],
 "metadata": {
  "celltoolbar": "Slideshow",
  "kernelspec": {
   "display_name": "Python 3 (ipykernel)",
   "language": "python",
   "name": "python3"
  },
  "language_info": {
   "codemirror_mode": {
    "name": "ipython",
    "version": 3
   },
   "file_extension": ".py",
   "mimetype": "text/x-python",
   "name": "python",
   "nbconvert_exporter": "python",
   "pygments_lexer": "ipython3",
   "version": "3.11.5"
  }
 },
 "nbformat": 4,
 "nbformat_minor": 4
}
